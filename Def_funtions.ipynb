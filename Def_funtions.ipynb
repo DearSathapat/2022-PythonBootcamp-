{
 "cells": [
  {
   "cell_type": "code",
   "execution_count": 4,
   "id": "af161743",
   "metadata": {},
   "outputs": [],
   "source": [
    "def dear(name):\n",
    "    if len(name) > 2:\n",
    "        return name[:2].capitalize() + name[:2].capitalize()\n",
    "    else:\n",
    "        return 'My name'"
   ]
  },
  {
   "cell_type": "code",
   "execution_count": 5,
   "id": "5c462b9c",
   "metadata": {},
   "outputs": [
    {
     "data": {
      "text/plain": [
       "'JuJu'"
      ]
     },
     "execution_count": 5,
     "metadata": {},
     "output_type": "execute_result"
    }
   ],
   "source": [
    "dear('juneny')"
   ]
  },
  {
   "cell_type": "code",
   "execution_count": null,
   "id": "bd257d96",
   "metadata": {},
   "outputs": [],
   "source": []
  }
 ],
 "metadata": {
  "kernelspec": {
   "display_name": "Python 3 (ipykernel)",
   "language": "python",
   "name": "python3"
  },
  "language_info": {
   "codemirror_mode": {
    "name": "ipython",
    "version": 3
   },
   "file_extension": ".py",
   "mimetype": "text/x-python",
   "name": "python",
   "nbconvert_exporter": "python",
   "pygments_lexer": "ipython3",
   "version": "3.9.12"
  }
 },
 "nbformat": 4,
 "nbformat_minor": 5
}
