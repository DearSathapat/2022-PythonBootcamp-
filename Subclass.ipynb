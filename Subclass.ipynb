{
 "cells": [
  {
   "cell_type": "code",
   "execution_count": 8,
   "id": "86ef9421",
   "metadata": {},
   "outputs": [],
   "source": [
    "class Animal():\n",
    "    \n",
    "    def __init__(self,name):\n",
    "        self.name = name\n",
    "        \n",
    "    def speck(self):\n",
    "        raise NotImplementedError(\"Subclass must implement this abstact mathod\")"
   ]
  },
  {
   "cell_type": "code",
   "execution_count": 9,
   "id": "3c0d786c",
   "metadata": {},
   "outputs": [],
   "source": [
    "class Dog(Animal):\n",
    "    \n",
    "    def speak(self):\n",
    "        return self.name + \" Say woof!\""
   ]
  },
  {
   "cell_type": "code",
   "execution_count": 10,
   "id": "dfec4ff7",
   "metadata": {},
   "outputs": [],
   "source": [
    "class Cat(Animal):\n",
    "    \n",
    "    def speak(self):\n",
    "        return self.name + \" Say meow!\""
   ]
  },
  {
   "cell_type": "code",
   "execution_count": 11,
   "id": "13c8cd60",
   "metadata": {},
   "outputs": [],
   "source": [
    "fido = Dog(\"Fido\")"
   ]
  },
  {
   "cell_type": "code",
   "execution_count": 12,
   "id": "5b897f74",
   "metadata": {},
   "outputs": [],
   "source": [
    "isis = Cat(\"Isis\")"
   ]
  },
  {
   "cell_type": "code",
   "execution_count": null,
   "id": "226d9905",
   "metadata": {},
   "outputs": [],
   "source": []
  }
 ],
 "metadata": {
  "kernelspec": {
   "display_name": "Python 3 (ipykernel)",
   "language": "python",
   "name": "python3"
  },
  "language_info": {
   "codemirror_mode": {
    "name": "ipython",
    "version": 3
   },
   "file_extension": ".py",
   "mimetype": "text/x-python",
   "name": "python",
   "nbconvert_exporter": "python",
   "pygments_lexer": "ipython3",
   "version": "3.9.12"
  }
 },
 "nbformat": 4,
 "nbformat_minor": 5
}
