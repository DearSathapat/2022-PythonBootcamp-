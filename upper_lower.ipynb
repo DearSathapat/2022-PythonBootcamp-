{
 "cells": [
  {
   "cell_type": "code",
   "execution_count": 8,
   "id": "78ecb323",
   "metadata": {},
   "outputs": [
    {
     "ename": "IndentationError",
     "evalue": "unexpected indent (2605827770.py, line 2)",
     "output_type": "error",
     "traceback": [
      "\u001b[1;36m  Input \u001b[1;32mIn [8]\u001b[1;36m\u001b[0m\n\u001b[1;33m    print(\"mofunc:\")\u001b[0m\n\u001b[1;37m    ^\u001b[0m\n\u001b[1;31mIndentationError\u001b[0m\u001b[1;31m:\u001b[0m unexpected indent\n"
     ]
    }
   ],
   "source": [
    "myfunc = \"Dearja\"\n",
    "    print(\"mofunc:\")\n",
    "    print(myfunc)\n",
    "    print(\"myfunc.upper()\")\n",
    "    print(\"myfunc.lower()\")"
   ]
  },
  {
   "cell_type": "code",
   "execution_count": 11,
   "id": "665b5e61",
   "metadata": {},
   "outputs": [
    {
     "name": "stdout",
     "output_type": "stream",
     "text": [
      "This is my thing:\n",
      "I have a water\n",
      "This is new thing:\n",
      "I HAVE A WATER\n"
     ]
    }
   ],
   "source": [
    "name = \"I have a water\"\n",
    "print(\"This is my thing:\")\n",
    "print(name)\n",
    "\n",
    "print(\"This is new thing:\")\n",
    "print(name.upper())"
   ]
  },
  {
   "cell_type": "code",
   "execution_count": 24,
   "id": "b879671b",
   "metadata": {},
   "outputs": [
    {
     "ename": "IndentationError",
     "evalue": "unexpected indent (3694098448.py, line 2)",
     "output_type": "error",
     "traceback": [
      "\u001b[1;36m  Input \u001b[1;32mIn [24]\u001b[1;36m\u001b[0m\n\u001b[1;33m    print(\"NumbOne: \")\u001b[0m\n\u001b[1;37m    ^\u001b[0m\n\u001b[1;31mIndentationError\u001b[0m\u001b[1;31m:\u001b[0m unexpected indent\n"
     ]
    }
   ],
   "source": [
    "myfunc = \"YES I AM DEAR\"\n",
    "    print(\"NumbOne: \")\n",
    "    print(myfunc)\n",
    "    \n",
    "    print(\"TWO:\")\n",
    "    print(myfunc.lower())"
   ]
  },
  {
   "cell_type": "code",
   "execution_count": null,
   "id": "692f47fc",
   "metadata": {},
   "outputs": [],
   "source": []
  }
 ],
 "metadata": {
  "kernelspec": {
   "display_name": "Python 3 (ipykernel)",
   "language": "python",
   "name": "python3"
  },
  "language_info": {
   "codemirror_mode": {
    "name": "ipython",
    "version": 3
   },
   "file_extension": ".py",
   "mimetype": "text/x-python",
   "name": "python",
   "nbconvert_exporter": "python",
   "pygments_lexer": "ipython3",
   "version": "3.9.12"
  }
 },
 "nbformat": 4,
 "nbformat_minor": 5
}
