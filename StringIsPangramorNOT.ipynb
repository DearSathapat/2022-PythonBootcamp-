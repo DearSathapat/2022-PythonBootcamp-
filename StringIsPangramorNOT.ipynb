{
 "cells": [
  {
   "cell_type": "code",
   "execution_count": 4,
   "id": "ecc35706",
   "metadata": {},
   "outputs": [],
   "source": [
    "def palindrome(s):\n",
    "    # Remove spaces string\n",
    "    s = s.replace(' ','')\n",
    "    # check is string is == reversed version of the string\n",
    "    \n",
    "    return s == s[::-1]"
   ]
  },
  {
   "cell_type": "code",
   "execution_count": 5,
   "id": "954c1a0a",
   "metadata": {},
   "outputs": [
    {
     "data": {
      "text/plain": [
       "False"
      ]
     },
     "execution_count": 5,
     "metadata": {},
     "output_type": "execute_result"
    }
   ],
   "source": [
    "palindrome('Nurses run')"
   ]
  },
  {
   "cell_type": "code",
   "execution_count": 6,
   "id": "a296770c",
   "metadata": {},
   "outputs": [
    {
     "data": {
      "text/plain": [
       "False"
      ]
     },
     "execution_count": 6,
     "metadata": {},
     "output_type": "execute_result"
    }
   ],
   "source": [
    "palindrome('Nu rs es run')"
   ]
  },
  {
   "cell_type": "code",
   "execution_count": 10,
   "id": "b7c883c3",
   "metadata": {},
   "outputs": [],
   "source": [
    "import string\n",
    "\n",
    "def ispangram(str1, alphabet = string.ascii_lowercase):\n",
    "    \n",
    "    # create a set of the alphabet\n",
    "    alphaset = set(alphabet)\n",
    "    # Remove any spaces from the input string\n",
    "    str1 = str1.replace(' ','')\n",
    "    # convert into all lowercase\n",
    "    str1 = str1.lower()\n",
    "    #Grab all unique letters from the string set()\n",
    "    str1 = set(str1)\n",
    "    # Alpahbet set == string sset input\n",
    "    return str1 == alphaset"
   ]
  },
  {
   "cell_type": "code",
   "execution_count": 11,
   "id": "a0644750",
   "metadata": {},
   "outputs": [
    {
     "data": {
      "text/plain": [
       "True"
      ]
     },
     "execution_count": 11,
     "metadata": {},
     "output_type": "execute_result"
    }
   ],
   "source": [
    "ispangram(\"The quick brown fox jumps over the lazy dog\")"
   ]
  },
  {
   "cell_type": "code",
   "execution_count": null,
   "id": "26093c0c",
   "metadata": {},
   "outputs": [],
   "source": []
  }
 ],
 "metadata": {
  "kernelspec": {
   "display_name": "Python 3 (ipykernel)",
   "language": "python",
   "name": "python3"
  },
  "language_info": {
   "codemirror_mode": {
    "name": "ipython",
    "version": 3
   },
   "file_extension": ".py",
   "mimetype": "text/x-python",
   "name": "python",
   "nbconvert_exporter": "python",
   "pygments_lexer": "ipython3",
   "version": "3.9.12"
  }
 },
 "nbformat": 4,
 "nbformat_minor": 5
}
