{
 "cells": [
  {
   "cell_type": "code",
   "execution_count": 3,
   "id": "1bfc04b6",
   "metadata": {},
   "outputs": [],
   "source": [
    "def old_macdonald(name):\n",
    "    f_letter = name[0]\n",
    "    inbetween = name[1:3]\n",
    "    fourth_letter = name[3]\n",
    "    rest = name[4:]\n",
    "    return f_letter.upper() + inbetween + fourth_letter.upper() + rest"
   ]
  },
  {
   "cell_type": "code",
   "execution_count": 4,
   "id": "cc77ccf2",
   "metadata": {},
   "outputs": [
    {
     "data": {
      "text/plain": [
       "'MacDonald'"
      ]
     },
     "execution_count": 4,
     "metadata": {},
     "output_type": "execute_result"
    }
   ],
   "source": [
    "old_macdonald('macdonald')"
   ]
  },
  {
   "cell_type": "code",
   "execution_count": 7,
   "id": "c5277e1c",
   "metadata": {},
   "outputs": [],
   "source": [
    "def old_macdonald(name):\n",
    "    \n",
    "    f_half = name[1:3]\n",
    "    sec_half = name[3:]\n",
    "    \n",
    "    return f_half.capitalize() + sec_half.capitalize()"
   ]
  },
  {
   "cell_type": "code",
   "execution_count": 8,
   "id": "d4580ebb",
   "metadata": {},
   "outputs": [
    {
     "data": {
      "text/plain": [
       "'AcDonald'"
      ]
     },
     "execution_count": 8,
     "metadata": {},
     "output_type": "execute_result"
    }
   ],
   "source": [
    "old_macdonald('macdonald')"
   ]
  },
  {
   "cell_type": "code",
   "execution_count": 20,
   "id": "02fa4388",
   "metadata": {},
   "outputs": [],
   "source": [
    "def master_yoda(text):\n",
    "    \n",
    "    w_list = text.split()\n",
    "    reverse_w_list = w_list[::-1]\n",
    "    return ' '.join(reverse_w_list)"
   ]
  },
  {
   "cell_type": "code",
   "execution_count": 21,
   "id": "e36b47d9",
   "metadata": {},
   "outputs": [
    {
     "data": {
      "text/plain": [
       "'Dear am I'"
      ]
     },
     "execution_count": 21,
     "metadata": {},
     "output_type": "execute_result"
    }
   ],
   "source": [
    "master_yoda('I am Dear')"
   ]
  },
  {
   "cell_type": "code",
   "execution_count": 22,
   "id": "51022983",
   "metadata": {},
   "outputs": [
    {
     "data": {
      "text/plain": [
       "'home am I'"
      ]
     },
     "execution_count": 22,
     "metadata": {},
     "output_type": "execute_result"
    }
   ],
   "source": [
    "master_yoda('I am home')"
   ]
  },
  {
   "cell_type": "code",
   "execution_count": 23,
   "id": "bed792b0",
   "metadata": {},
   "outputs": [
    {
     "data": {
      "text/plain": [
       "'ready are We'"
      ]
     },
     "execution_count": 23,
     "metadata": {},
     "output_type": "execute_result"
    }
   ],
   "source": [
    "master_yoda('We are ready')"
   ]
  },
  {
   "cell_type": "code",
   "execution_count": 24,
   "id": "ed6cb351",
   "metadata": {},
   "outputs": [],
   "source": [
    "mylist = ['a','b','c']"
   ]
  },
  {
   "cell_type": "code",
   "execution_count": 25,
   "id": "2d797c9e",
   "metadata": {},
   "outputs": [
    {
     "data": {
      "text/plain": [
       "'a000000b000000c'"
      ]
     },
     "execution_count": 25,
     "metadata": {},
     "output_type": "execute_result"
    }
   ],
   "source": [
    "'000000'.join(mylist)"
   ]
  },
  {
   "cell_type": "code",
   "execution_count": 29,
   "id": "dea4ab60",
   "metadata": {},
   "outputs": [],
   "source": [
    "def almost_there(n):\n",
    "    \n",
    "    return (abs(100-n) <= 10) or (abs(200-n)) <= 10"
   ]
  },
  {
   "cell_type": "code",
   "execution_count": 30,
   "id": "9b43675c",
   "metadata": {},
   "outputs": [
    {
     "data": {
      "text/plain": [
       "True"
      ]
     },
     "execution_count": 30,
     "metadata": {},
     "output_type": "execute_result"
    }
   ],
   "source": [
    "almost_there(90)"
   ]
  },
  {
   "cell_type": "code",
   "execution_count": 31,
   "id": "fadf7bf6",
   "metadata": {},
   "outputs": [
    {
     "data": {
      "text/plain": [
       "True"
      ]
     },
     "execution_count": 31,
     "metadata": {},
     "output_type": "execute_result"
    }
   ],
   "source": [
    "almost_there(104)"
   ]
  },
  {
   "cell_type": "code",
   "execution_count": 32,
   "id": "a3cd1a04",
   "metadata": {},
   "outputs": [
    {
     "data": {
      "text/plain": [
       "False"
      ]
     },
     "execution_count": 32,
     "metadata": {},
     "output_type": "execute_result"
    }
   ],
   "source": [
    "almost_there(150)"
   ]
  },
  {
   "cell_type": "code",
   "execution_count": 33,
   "id": "cd48ff5b",
   "metadata": {},
   "outputs": [
    {
     "data": {
      "text/plain": [
       "True"
      ]
     },
     "execution_count": 33,
     "metadata": {},
     "output_type": "execute_result"
    }
   ],
   "source": [
    "almost_there(209)"
   ]
  },
  {
   "cell_type": "code",
   "execution_count": null,
   "id": "7eda5c9d",
   "metadata": {},
   "outputs": [],
   "source": []
  }
 ],
 "metadata": {
  "kernelspec": {
   "display_name": "Python 3 (ipykernel)",
   "language": "python",
   "name": "python3"
  },
  "language_info": {
   "codemirror_mode": {
    "name": "ipython",
    "version": 3
   },
   "file_extension": ".py",
   "mimetype": "text/x-python",
   "name": "python",
   "nbconvert_exporter": "python",
   "pygments_lexer": "ipython3",
   "version": "3.9.12"
  }
 },
 "nbformat": 4,
 "nbformat_minor": 5
}
