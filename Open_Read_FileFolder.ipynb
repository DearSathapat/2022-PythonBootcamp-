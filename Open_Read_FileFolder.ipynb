{
 "cells": [
  {
   "cell_type": "code",
   "execution_count": 1,
   "id": "89a9a85b",
   "metadata": {},
   "outputs": [
    {
     "data": {
      "text/plain": [
       "'C:\\\\Users\\\\Dear\\\\Desktop\\\\Python Bootcamp 2022'"
      ]
     },
     "execution_count": 1,
     "metadata": {},
     "output_type": "execute_result"
    }
   ],
   "source": [
    "pwd"
   ]
  },
  {
   "cell_type": "code",
   "execution_count": 2,
   "id": "239dce56",
   "metadata": {},
   "outputs": [],
   "source": [
    "f = open('practice.txt','w+')\n",
    "f.write ('This is a test string')\n",
    "f.close()"
   ]
  },
  {
   "cell_type": "code",
   "execution_count": 3,
   "id": "fc2a2268",
   "metadata": {},
   "outputs": [],
   "source": [
    "import os"
   ]
  },
  {
   "cell_type": "code",
   "execution_count": 5,
   "id": "0c37203e",
   "metadata": {},
   "outputs": [
    {
     "data": {
      "text/plain": [
       "'C:\\\\Users\\\\Dear\\\\Desktop\\\\Python Bootcamp 2022'"
      ]
     },
     "execution_count": 5,
     "metadata": {},
     "output_type": "execute_result"
    }
   ],
   "source": [
    "os.getcwd()"
   ]
  },
  {
   "cell_type": "code",
   "execution_count": 7,
   "id": "c83161c2",
   "metadata": {},
   "outputs": [
    {
     "data": {
      "text/plain": [
       "[' DisplayingInformation.ipynb',\n",
       " '.ipynb_checkpoints',\n",
       " '07-Statements Assessment Test.ipynb.txt',\n",
       " 'args and kwargs parameter.ipynb',\n",
       " 'Booleens1.ipynb',\n",
       " 'Calculate_number.ipynb',\n",
       " 'Card_class.ipynb',\n",
       " 'Class_1.ipynb',\n",
       " 'class_animal1.ipynb',\n",
       " 'class_book.ipynb',\n",
       " 'class_circle.ipynb',\n",
       " 'class_oop_simple.ipynb',\n",
       " 'class_Polymorphism.ipynb',\n",
       " 'Collections1_list.ipynb',\n",
       " 'Collections2_dictionary.ipynb',\n",
       " 'Collections3_tuple.ipynb',\n",
       " 'ComparisonOperators.ipynb',\n",
       " 'Deck_Class1.ipynb',\n",
       " 'Decorators2.ipynb',\n",
       " 'def_booleens.ipynb',\n",
       " 'Def_Count.ipynb',\n",
       " 'def_function.ipynb',\n",
       " 'Def_funtions.ipynb',\n",
       " 'def_IPythonDisplay.ipynb',\n",
       " 'Def_List.ipynb',\n",
       " 'def_player.ipynb',\n",
       " 'def_playerInput.ipynb',\n",
       " 'def_ReturnList.ipynb',\n",
       " 'Def_return_arr.ipynb',\n",
       " 'def_return_fuctions.ipynb',\n",
       " 'def_str_upper_lower.ipynb',\n",
       " 'Def_tictoctoe.ipynb',\n",
       " 'def_try_except.ipynb',\n",
       " 'Def_while.ipynb',\n",
       " 'Dictionaries.ipynb',\n",
       " 'ErrorNException.ipynb',\n",
       " 'ErrorNException2.ipynb',\n",
       " 'Error_Exception3.ipynb',\n",
       " 'Files1.ipynb',\n",
       " 'For loop on list.ipynb',\n",
       " 'functions_and_logics.ipynb',\n",
       " 'function_palindrome.ipynb',\n",
       " 'Function_Practice_Exercises.ipynb',\n",
       " 'Function_Practice_Problem.ipynb',\n",
       " 'Function_Practice_Problem2.ipynb',\n",
       " 'Func_listofintegersAndReturnsTrue.ipynb',\n",
       " 'Func_Setboard.ipynb',\n",
       " 'game_logic1.ipynb',\n",
       " 'game_logic2.ipynb',\n",
       " 'game_logic3.ipynb',\n",
       " 'Generators_Python.ipynb',\n",
       " 'HW_ErrorNException1.ipynb',\n",
       " 'HW_ErrorNException2.ipynb',\n",
       " 'HW_ErrorNException3.ipynb',\n",
       " 'HW_OOP1.ipynb',\n",
       " 'HW_OOP1_Solution.ipynb',\n",
       " 'If_else_elif.ipynb',\n",
       " 'if_else_elif_forloops_whileloops.ipynb',\n",
       " 'Interactions_args.ipynb',\n",
       " 'Interactions_between_function.ipynb',\n",
       " 'intvarstring.ipynb',\n",
       " 'LambdaExpression.ipynb',\n",
       " 'LambdaExpressionsMap.ipynb',\n",
       " 'LEGB_Rule.ipynb',\n",
       " 'list2.ipynb',\n",
       " 'ListComprehensions.ipynb',\n",
       " 'Lists.ipynb',\n",
       " 'List_Comprehensions.ipynb',\n",
       " 'Methods&Functions.ipynb',\n",
       " 'myexample.py',\n",
       " 'myfirstnotebook.ipynb',\n",
       " 'MyMainPackage',\n",
       " 'mymodule.py',\n",
       " 'myprogram.py',\n",
       " 'NestedStatementsAndScope.ipynb',\n",
       " 'Objects and Data Structures Assessment Test Overview.ipynb',\n",
       " 'OOP_Account.ipynb',\n",
       " 'OOP_HWProblem2.ipynb',\n",
       " 'Open_Read_FileFolder.ipynb',\n",
       " 'PlayerInput_whileloops.ipynb',\n",
       " 'Play_card.ipynb',\n",
       " 'practice.txt',\n",
       " \"print('Hello world').py\",\n",
       " 'print_DisplayCards.ipynb',\n",
       " 'return_new_list.ipynb',\n",
       " 'Sets1.ipynb',\n",
       " 'simple1.py',\n",
       " 'simple2.py',\n",
       " 'SimpleUser_Interaction.ipynb',\n",
       " 'Simple_user_Interaction.ipynb',\n",
       " 'Simple_User_interface..ipynb',\n",
       " 'Statement.ipynb',\n",
       " 'StatementAssessmentTest_Solutions.ipynb',\n",
       " 'stringformattingmethod.ipynb',\n",
       " 'stringimmutable.ipynb',\n",
       " 'StringIsPangramorNOT.ipynb',\n",
       " 'Subclass.ipynb',\n",
       " 'testfile',\n",
       " 'test_cap.py',\n",
       " 'Tuples1.ipynb',\n",
       " 'Tuple_Unpacking_withFucntion.ipynb',\n",
       " 'unit_test.py',\n",
       " 'Untitled.ipynb',\n",
       " 'Untitled1.ipynb',\n",
       " 'Untitled2.ipynb',\n",
       " 'Untitled3.ipynb',\n",
       " 'Untitled4.ipynb',\n",
       " 'Untitled5.ipynb',\n",
       " 'Untitled6.ipynb',\n",
       " 'Untitled7.ipynb',\n",
       " 'upper_lower.ipynb',\n",
       " 'Usefull_Operators.ipynb',\n",
       " 'UserInteractionGameLogic.ipynb',\n",
       " 'UserValidatingInput4.ipynb',\n",
       " 'User_Input.ipynb',\n",
       " 'User_input2.ipynb',\n",
       " 'User_interface..ipynb',\n",
       " 'ValidatingUserInput.ipynb',\n",
       " 'ValidatingUserInput3.ipynb',\n",
       " 'Validating_userInput.ipynb',\n",
       " 'Walkthrough_game.ipynb',\n",
       " 'Walkthrough_game2.ipynb',\n",
       " 'Walkthrough_game3.ipynb',\n",
       " 'whileloop_HitOrStand.ipynb',\n",
       " 'While_Player2.ipynb',\n",
       " 'WH_generators1.ipynb',\n",
       " 'WH_generators2.ipynb',\n",
       " 'WH_generators3.ipynb',\n",
       " 'WH_generators4.ipynb']"
      ]
     },
     "execution_count": 7,
     "metadata": {},
     "output_type": "execute_result"
    }
   ],
   "source": [
    "os.listdir() #see all the notebooks I had."
   ]
  },
  {
   "cell_type": "code",
   "execution_count": 9,
   "id": "90505bce",
   "metadata": {},
   "outputs": [
    {
     "data": {
      "text/plain": [
       "['All Users', 'Dear', 'Default', 'Default User', 'desktop.ini', 'Public']"
      ]
     },
     "execution_count": 9,
     "metadata": {},
     "output_type": "execute_result"
    }
   ],
   "source": [
    "os.listdir('C:\\\\Users')"
   ]
  },
  {
   "cell_type": "code",
   "execution_count": 10,
   "id": "ab11a51b",
   "metadata": {},
   "outputs": [],
   "source": [
    "import shutil"
   ]
  },
  {
   "cell_type": "code",
   "execution_count": 11,
   "id": "f5a8f30a",
   "metadata": {},
   "outputs": [
    {
     "data": {
      "text/plain": [
       "'C:\\\\Users\\\\Dear\\\\Desktop\\\\practice.txt'"
      ]
     },
     "execution_count": 11,
     "metadata": {},
     "output_type": "execute_result"
    }
   ],
   "source": [
    "shutil.move('practice.txt','C:\\\\Users\\\\Dear\\\\Desktop')"
   ]
  },
  {
   "cell_type": "code",
   "execution_count": 12,
   "id": "8f349b38",
   "metadata": {},
   "outputs": [
    {
     "data": {
      "text/plain": [
       "['desktop.ini',\n",
       " 'HeidiSQL.lnk',\n",
       " 'KrispyKremeRewards.lnk',\n",
       " 'Local.lnk',\n",
       " 'practice.txt',\n",
       " 'Python Bootcamp 2022',\n",
       " 'RHBUSPOS.lnk']"
      ]
     },
     "execution_count": 12,
     "metadata": {},
     "output_type": "execute_result"
    }
   ],
   "source": [
    "os.listdir('C:\\\\Users\\\\Dear\\\\Desktop')"
   ]
  },
  {
   "cell_type": "code",
   "execution_count": 16,
   "id": "9544e25e",
   "metadata": {
    "scrolled": true
   },
   "outputs": [
    {
     "data": {
      "text/plain": [
       "'C:\\\\Users\\\\Dear\\\\Desktop\\\\Python Bootcamp 2022'"
      ]
     },
     "execution_count": 16,
     "metadata": {},
     "output_type": "execute_result"
    }
   ],
   "source": [
    "pwd"
   ]
  },
  {
   "cell_type": "code",
   "execution_count": 17,
   "id": "8ce3cde0",
   "metadata": {},
   "outputs": [],
   "source": [
    "import shutil"
   ]
  },
  {
   "cell_type": "code",
   "execution_count": 19,
   "id": "39120e1a",
   "metadata": {},
   "outputs": [],
   "source": [
    "import send2trash"
   ]
  },
  {
   "cell_type": "code",
   "execution_count": 20,
   "id": "6e35879a",
   "metadata": {},
   "outputs": [
    {
     "data": {
      "text/plain": [
       "[' DisplayingInformation.ipynb',\n",
       " '.ipynb_checkpoints',\n",
       " '07-Statements Assessment Test.ipynb.txt',\n",
       " 'args and kwargs parameter.ipynb',\n",
       " 'Booleens1.ipynb',\n",
       " 'Calculate_number.ipynb',\n",
       " 'Card_class.ipynb',\n",
       " 'Class_1.ipynb',\n",
       " 'class_animal1.ipynb',\n",
       " 'class_book.ipynb',\n",
       " 'class_circle.ipynb',\n",
       " 'class_oop_simple.ipynb',\n",
       " 'class_Polymorphism.ipynb',\n",
       " 'Collections1_list.ipynb',\n",
       " 'Collections2_dictionary.ipynb',\n",
       " 'Collections3_tuple.ipynb',\n",
       " 'ComparisonOperators.ipynb',\n",
       " 'Deck_Class1.ipynb',\n",
       " 'Decorators2.ipynb',\n",
       " 'def_booleens.ipynb',\n",
       " 'Def_Count.ipynb',\n",
       " 'def_function.ipynb',\n",
       " 'Def_funtions.ipynb',\n",
       " 'def_IPythonDisplay.ipynb',\n",
       " 'Def_List.ipynb',\n",
       " 'def_player.ipynb',\n",
       " 'def_playerInput.ipynb',\n",
       " 'def_ReturnList.ipynb',\n",
       " 'Def_return_arr.ipynb',\n",
       " 'def_return_fuctions.ipynb',\n",
       " 'def_str_upper_lower.ipynb',\n",
       " 'Def_tictoctoe.ipynb',\n",
       " 'def_try_except.ipynb',\n",
       " 'Def_while.ipynb',\n",
       " 'Dictionaries.ipynb',\n",
       " 'ErrorNException.ipynb',\n",
       " 'ErrorNException2.ipynb',\n",
       " 'Error_Exception3.ipynb',\n",
       " 'Files1.ipynb',\n",
       " 'For loop on list.ipynb',\n",
       " 'functions_and_logics.ipynb',\n",
       " 'function_palindrome.ipynb',\n",
       " 'Function_Practice_Exercises.ipynb',\n",
       " 'Function_Practice_Problem.ipynb',\n",
       " 'Function_Practice_Problem2.ipynb',\n",
       " 'Func_listofintegersAndReturnsTrue.ipynb',\n",
       " 'Func_Setboard.ipynb',\n",
       " 'game_logic1.ipynb',\n",
       " 'game_logic2.ipynb',\n",
       " 'game_logic3.ipynb',\n",
       " 'Generators_Python.ipynb',\n",
       " 'HW_ErrorNException1.ipynb',\n",
       " 'HW_ErrorNException2.ipynb',\n",
       " 'HW_ErrorNException3.ipynb',\n",
       " 'HW_OOP1.ipynb',\n",
       " 'HW_OOP1_Solution.ipynb',\n",
       " 'If_else_elif.ipynb',\n",
       " 'if_else_elif_forloops_whileloops.ipynb',\n",
       " 'Interactions_args.ipynb',\n",
       " 'Interactions_between_function.ipynb',\n",
       " 'intvarstring.ipynb',\n",
       " 'LambdaExpression.ipynb',\n",
       " 'LambdaExpressionsMap.ipynb',\n",
       " 'LEGB_Rule.ipynb',\n",
       " 'list2.ipynb',\n",
       " 'ListComprehensions.ipynb',\n",
       " 'Lists.ipynb',\n",
       " 'List_Comprehensions.ipynb',\n",
       " 'Methods&Functions.ipynb',\n",
       " 'myexample.py',\n",
       " 'myfirstnotebook.ipynb',\n",
       " 'MyMainPackage',\n",
       " 'mymodule.py',\n",
       " 'myprogram.py',\n",
       " 'NestedStatementsAndScope.ipynb',\n",
       " 'Objects and Data Structures Assessment Test Overview.ipynb',\n",
       " 'OOP_Account.ipynb',\n",
       " 'OOP_HWProblem2.ipynb',\n",
       " 'Open_Read_FileFolder.ipynb',\n",
       " 'PlayerInput_whileloops.ipynb',\n",
       " 'Play_card.ipynb',\n",
       " \"print('Hello world').py\",\n",
       " 'print_DisplayCards.ipynb',\n",
       " 'return_new_list.ipynb',\n",
       " 'Sets1.ipynb',\n",
       " 'simple1.py',\n",
       " 'simple2.py',\n",
       " 'SimpleUser_Interaction.ipynb',\n",
       " 'Simple_user_Interaction.ipynb',\n",
       " 'Simple_User_interface..ipynb',\n",
       " 'Statement.ipynb',\n",
       " 'StatementAssessmentTest_Solutions.ipynb',\n",
       " 'stringformattingmethod.ipynb',\n",
       " 'stringimmutable.ipynb',\n",
       " 'StringIsPangramorNOT.ipynb',\n",
       " 'Subclass.ipynb',\n",
       " 'testfile',\n",
       " 'test_cap.py',\n",
       " 'Tuples1.ipynb',\n",
       " 'Tuple_Unpacking_withFucntion.ipynb',\n",
       " 'unit_test.py',\n",
       " 'Untitled.ipynb',\n",
       " 'Untitled1.ipynb',\n",
       " 'Untitled2.ipynb',\n",
       " 'Untitled3.ipynb',\n",
       " 'Untitled4.ipynb',\n",
       " 'Untitled5.ipynb',\n",
       " 'Untitled6.ipynb',\n",
       " 'Untitled7.ipynb',\n",
       " 'upper_lower.ipynb',\n",
       " 'Usefull_Operators.ipynb',\n",
       " 'UserInteractionGameLogic.ipynb',\n",
       " 'UserValidatingInput4.ipynb',\n",
       " 'User_Input.ipynb',\n",
       " 'User_input2.ipynb',\n",
       " 'User_interface..ipynb',\n",
       " 'ValidatingUserInput.ipynb',\n",
       " 'ValidatingUserInput3.ipynb',\n",
       " 'Validating_userInput.ipynb',\n",
       " 'Walkthrough_game.ipynb',\n",
       " 'Walkthrough_game2.ipynb',\n",
       " 'Walkthrough_game3.ipynb',\n",
       " 'whileloop_HitOrStand.ipynb',\n",
       " 'While_Player2.ipynb',\n",
       " 'WH_generators1.ipynb',\n",
       " 'WH_generators2.ipynb',\n",
       " 'WH_generators3.ipynb',\n",
       " 'WH_generators4.ipynb']"
      ]
     },
     "execution_count": 20,
     "metadata": {},
     "output_type": "execute_result"
    }
   ],
   "source": [
    "os.listdir()"
   ]
  },
  {
   "cell_type": "code",
   "execution_count": null,
   "id": "075d63b2",
   "metadata": {},
   "outputs": [],
   "source": []
  }
 ],
 "metadata": {
  "kernelspec": {
   "display_name": "Python 3 (ipykernel)",
   "language": "python",
   "name": "python3"
  },
  "language_info": {
   "codemirror_mode": {
    "name": "ipython",
    "version": 3
   },
   "file_extension": ".py",
   "mimetype": "text/x-python",
   "name": "python",
   "nbconvert_exporter": "python",
   "pygments_lexer": "ipython3",
   "version": "3.9.12"
  }
 },
 "nbformat": 4,
 "nbformat_minor": 5
}
