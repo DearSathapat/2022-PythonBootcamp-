{
 "cells": [
  {
   "cell_type": "code",
   "execution_count": 1,
   "id": "0facb5c3",
   "metadata": {},
   "outputs": [],
   "source": [
    "def myfunc(d):\n",
    "    a,b = 0,1\n",
    "    while a < d:\n",
    "        print(a, end='')\n",
    "        a,b = b, a+b\n",
    "        print()"
   ]
  },
  {
   "cell_type": "code",
   "execution_count": 4,
   "id": "8a9167df",
   "metadata": {},
   "outputs": [
    {
     "name": "stdout",
     "output_type": "stream",
     "text": [
      "<function myfunc at 0x0000020C6DC5DAF0>\n"
     ]
    }
   ],
   "source": [
    "print(myfunc)"
   ]
  },
  {
   "cell_type": "code",
   "execution_count": 8,
   "id": "5670bf19",
   "metadata": {},
   "outputs": [
    {
     "name": "stdout",
     "output_type": "stream",
     "text": [
      "Dear\n"
     ]
    }
   ],
   "source": [
    "print(\"Dear\")"
   ]
  },
  {
   "cell_type": "code",
   "execution_count": 14,
   "id": "f701889f",
   "metadata": {},
   "outputs": [],
   "source": [
    "def myfunc():\n",
    "    print('Dear')"
   ]
  },
  {
   "cell_type": "code",
   "execution_count": 15,
   "id": "494d52a6",
   "metadata": {},
   "outputs": [
    {
     "data": {
      "text/plain": [
       "<function __main__.myfunc()>"
      ]
     },
     "execution_count": 15,
     "metadata": {},
     "output_type": "execute_result"
    }
   ],
   "source": [
    "myfunc"
   ]
  },
  {
   "cell_type": "code",
   "execution_count": 20,
   "id": "24a50a82",
   "metadata": {},
   "outputs": [],
   "source": [
    "def myfunc(name):\n",
    "    print(name + \"RR\")"
   ]
  },
  {
   "cell_type": "code",
   "execution_count": 21,
   "id": "45715bfa",
   "metadata": {},
   "outputs": [
    {
     "data": {
      "text/plain": [
       "<function __main__.myfunc(name)>"
      ]
     },
     "execution_count": 21,
     "metadata": {},
     "output_type": "execute_result"
    }
   ],
   "source": [
    "myfunc"
   ]
  },
  {
   "cell_type": "code",
   "execution_count": 22,
   "id": "83193ddd",
   "metadata": {},
   "outputs": [],
   "source": [
    "def myfunc(fullname, lastname):\n",
    "    myfunc(\"Satha\")\n",
    "    print(fullname + \" \" +lastname)"
   ]
  },
  {
   "cell_type": "code",
   "execution_count": 23,
   "id": "60f868bd",
   "metadata": {},
   "outputs": [
    {
     "data": {
      "text/plain": [
       "<function __main__.myfunc(fullname, lastname)>"
      ]
     },
     "execution_count": 23,
     "metadata": {},
     "output_type": "execute_result"
    }
   ],
   "source": [
    "myfunc"
   ]
  },
  {
   "cell_type": "code",
   "execution_count": null,
   "id": "ed9636c3",
   "metadata": {},
   "outputs": [],
   "source": []
  }
 ],
 "metadata": {
  "kernelspec": {
   "display_name": "Python 3 (ipykernel)",
   "language": "python",
   "name": "python3"
  },
  "language_info": {
   "codemirror_mode": {
    "name": "ipython",
    "version": 3
   },
   "file_extension": ".py",
   "mimetype": "text/x-python",
   "name": "python",
   "nbconvert_exporter": "python",
   "pygments_lexer": "ipython3",
   "version": "3.9.12"
  }
 },
 "nbformat": 4,
 "nbformat_minor": 5
}
