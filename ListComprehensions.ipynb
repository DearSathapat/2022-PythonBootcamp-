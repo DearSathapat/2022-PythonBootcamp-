{
 "cells": [
  {
   "cell_type": "code",
   "execution_count": 1,
   "id": "cc1b3d41",
   "metadata": {},
   "outputs": [],
   "source": [
    "# List comprehensions\n",
    "cars = ['Honda','Toyota','Nissan','Mitsubishi','Isuzu','Mazda','Suzuki','Subaru']"
   ]
  },
  {
   "cell_type": "code",
   "execution_count": 4,
   "id": "06783f72",
   "metadata": {},
   "outputs": [],
   "source": [
    "japan_cars = [car.upper() for car in car]"
   ]
  },
  {
   "cell_type": "code",
   "execution_count": 5,
   "id": "20542992",
   "metadata": {},
   "outputs": [
    {
     "name": "stdout",
     "output_type": "stream",
     "text": [
      "['HONDA', 'TOYOTA', 'NISSAN', 'MITSUBISHI', 'ISUZU', 'MAZDA', 'SUZUKI', 'SUBARU']\n"
     ]
    }
   ],
   "source": [
    "print(japan_cars)"
   ]
  },
  {
   "cell_type": "code",
   "execution_count": 9,
   "id": "f783f02e",
   "metadata": {},
   "outputs": [],
   "source": [
    "japan_cars = [car.lower() for car in car]"
   ]
  },
  {
   "cell_type": "code",
   "execution_count": 10,
   "id": "39300729",
   "metadata": {},
   "outputs": [
    {
     "name": "stdout",
     "output_type": "stream",
     "text": [
      "['honda', 'toyota', 'nissan', 'mitsubishi', 'isuzu', 'mazda', 'suzuki', 'subaru']\n"
     ]
    }
   ],
   "source": [
    "print(japan_cars)"
   ]
  },
  {
   "cell_type": "code",
   "execution_count": 13,
   "id": "9e1cee5f",
   "metadata": {},
   "outputs": [
    {
     "ename": "SyntaxError",
     "evalue": "invalid syntax (945884371.py, line 2)",
     "output_type": "error",
     "traceback": [
      "\u001b[1;36m  Input \u001b[1;32mIn [13]\u001b[1;36m\u001b[0m\n\u001b[1;33m    japan_cars = [car.upper() else]\u001b[0m\n\u001b[1;37m                              ^\u001b[0m\n\u001b[1;31mSyntaxError\u001b[0m\u001b[1;31m:\u001b[0m invalid syntax\n"
     ]
    }
   ],
   "source": [
    "japan_cars = [car.lower() for car in car]\n",
    "japan_cars = [car.upper() else ]"
   ]
  },
  {
   "cell_type": "code",
   "execution_count": null,
   "id": "bddf34ff",
   "metadata": {},
   "outputs": [],
   "source": []
  }
 ],
 "metadata": {
  "kernelspec": {
   "display_name": "Python 3 (ipykernel)",
   "language": "python",
   "name": "python3"
  },
  "language_info": {
   "codemirror_mode": {
    "name": "ipython",
    "version": 3
   },
   "file_extension": ".py",
   "mimetype": "text/x-python",
   "name": "python",
   "nbconvert_exporter": "python",
   "pygments_lexer": "ipython3",
   "version": "3.9.12"
  }
 },
 "nbformat": 4,
 "nbformat_minor": 5
}
