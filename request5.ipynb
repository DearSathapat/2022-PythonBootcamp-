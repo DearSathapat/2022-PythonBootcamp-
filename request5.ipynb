{
 "cells": [
  {
   "cell_type": "code",
   "execution_count": null,
   "id": "a2526955",
   "metadata": {},
   "outputs": [],
   "source": []
  },
  {
   "cell_type": "code",
   "execution_count": 1,
   "id": "07d8c66d",
   "metadata": {},
   "outputs": [],
   "source": [
    "import requests\n",
    "import bs4"
   ]
  },
  {
   "cell_type": "code",
   "execution_count": 2,
   "id": "2c841c85",
   "metadata": {},
   "outputs": [
    {
     "data": {
      "text/plain": [
       "'https://www.amazon.com/s?k=amazon+international+shipping+books&crid=1DR9JHJ33VYHX&sprefix=amazon+international+shipping+%2Caps%2C327&ref=nb_sb_ss_ts-doa-p_6_30'"
      ]
     },
     "execution_count": 2,
     "metadata": {},
     "output_type": "execute_result"
    }
   ],
   "source": [
    "'https://www.amazon.com/s?k=amazon+international+shipping+books&crid=1DR9JHJ33VYHX&sprefix=amazon+international+shipping+%2Caps%2C327&ref=nb_sb_ss_ts-doa-p_6_30'"
   ]
  },
  {
   "cell_type": "code",
   "execution_count": null,
   "id": "804da086",
   "metadata": {},
   "outputs": [],
   "source": []
  }
 ],
 "metadata": {
  "kernelspec": {
   "display_name": "Python 3 (ipykernel)",
   "language": "python",
   "name": "python3"
  },
  "language_info": {
   "codemirror_mode": {
    "name": "ipython",
    "version": 3
   },
   "file_extension": ".py",
   "mimetype": "text/x-python",
   "name": "python",
   "nbconvert_exporter": "python",
   "pygments_lexer": "ipython3",
   "version": "3.9.12"
  }
 },
 "nbformat": 4,
 "nbformat_minor": 5
}
