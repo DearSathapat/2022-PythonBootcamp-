{
 "cells": [
  {
   "cell_type": "code",
   "execution_count": 1,
   "id": "c7cedb73",
   "metadata": {},
   "outputs": [],
   "source": [
    "import send2trash"
   ]
  },
  {
   "cell_type": "code",
   "execution_count": 4,
   "id": "8c8b0cab",
   "metadata": {},
   "outputs": [
    {
     "data": {
      "text/plain": [
       "'C:\\\\Users\\\\Dear\\\\Desktop\\\\Python Bootcamp 2022'"
      ]
     },
     "execution_count": 4,
     "metadata": {},
     "output_type": "execute_result"
    }
   ],
   "source": [
    "pwd"
   ]
  },
  {
   "cell_type": "code",
   "execution_count": 8,
   "id": "a0b502c9",
   "metadata": {},
   "outputs": [
    {
     "ename": "FileNotFoundError",
     "evalue": "[WinError -2147024894] The system cannot find the file specified.: 'C:\\\\Users\\\\Dear\\\\Desktop\\\\Python Bootcamp 2022\\\\practice.txt'",
     "output_type": "error",
     "traceback": [
      "\u001b[1;31m---------------------------------------------------------------------------\u001b[0m",
      "\u001b[1;31mcom_error\u001b[0m                                 Traceback (most recent call last)",
      "File \u001b[1;32m~\\anaconda3\\lib\\site-packages\\send2trash\\plat_win_modern.py:59\u001b[0m, in \u001b[0;36msend2trash\u001b[1;34m(paths)\u001b[0m\n\u001b[0;32m     58\u001b[0m \u001b[38;5;28;01mfor\u001b[39;00m path \u001b[38;5;129;01min\u001b[39;00m paths:\n\u001b[1;32m---> 59\u001b[0m     item \u001b[38;5;241m=\u001b[39m \u001b[43mshell\u001b[49m\u001b[38;5;241;43m.\u001b[39;49m\u001b[43mSHCreateItemFromParsingName\u001b[49m\u001b[43m(\u001b[49m\u001b[43mpath\u001b[49m\u001b[43m,\u001b[49m\u001b[43m \u001b[49m\u001b[38;5;28;43;01mNone\u001b[39;49;00m\u001b[43m,\u001b[49m\u001b[43m \u001b[49m\u001b[43mshell\u001b[49m\u001b[38;5;241;43m.\u001b[39;49m\u001b[43mIID_IShellItem\u001b[49m\u001b[43m)\u001b[49m\n\u001b[0;32m     60\u001b[0m     fileop\u001b[38;5;241m.\u001b[39mDeleteItem(item, sink)\n",
      "\u001b[1;31mcom_error\u001b[0m: (-2147024894, 'The system cannot find the file specified.', None, None)",
      "\nDuring handling of the above exception, another exception occurred:\n",
      "\u001b[1;31mFileNotFoundError\u001b[0m                         Traceback (most recent call last)",
      "Input \u001b[1;32mIn [8]\u001b[0m, in \u001b[0;36m<cell line: 1>\u001b[1;34m()\u001b[0m\n\u001b[1;32m----> 1\u001b[0m \u001b[43msend2trash\u001b[49m\u001b[38;5;241;43m.\u001b[39;49m\u001b[43msend2trash\u001b[49m\u001b[43m(\u001b[49m\u001b[38;5;124;43m'\u001b[39;49m\u001b[38;5;124;43mpractice.txt\u001b[39;49m\u001b[38;5;124;43m'\u001b[39;49m\u001b[43m)\u001b[49m\n",
      "File \u001b[1;32m~\\anaconda3\\lib\\site-packages\\send2trash\\plat_win_modern.py:69\u001b[0m, in \u001b[0;36msend2trash\u001b[1;34m(paths)\u001b[0m\n\u001b[0;32m     65\u001b[0m         \u001b[38;5;28;01mraise\u001b[39;00m \u001b[38;5;167;01mOSError\u001b[39;00m(\u001b[38;5;28;01mNone\u001b[39;00m, \u001b[38;5;28;01mNone\u001b[39;00m, paths, result)\n\u001b[0;32m     66\u001b[0m \u001b[38;5;28;01mexcept\u001b[39;00m pywintypes\u001b[38;5;241m.\u001b[39mcom_error \u001b[38;5;28;01mas\u001b[39;00m error:\n\u001b[0;32m     67\u001b[0m     \u001b[38;5;66;03m# convert to standard OS error, allows other code to get a\u001b[39;00m\n\u001b[0;32m     68\u001b[0m     \u001b[38;5;66;03m# normal errno\u001b[39;00m\n\u001b[1;32m---> 69\u001b[0m     \u001b[38;5;28;01mraise\u001b[39;00m \u001b[38;5;167;01mOSError\u001b[39;00m(\u001b[38;5;28;01mNone\u001b[39;00m, error\u001b[38;5;241m.\u001b[39mstrerror, path, error\u001b[38;5;241m.\u001b[39mhresult)\n\u001b[0;32m     70\u001b[0m \u001b[38;5;28;01mfinally\u001b[39;00m:\n\u001b[0;32m     71\u001b[0m     \u001b[38;5;66;03m# Need to make sure we call this once fore every init\u001b[39;00m\n\u001b[0;32m     72\u001b[0m     pythoncom\u001b[38;5;241m.\u001b[39mCoUninitialize()\n",
      "\u001b[1;31mFileNotFoundError\u001b[0m: [WinError -2147024894] The system cannot find the file specified.: 'C:\\\\Users\\\\Dear\\\\Desktop\\\\Python Bootcamp 2022\\\\practice.txt'"
     ]
    }
   ],
   "source": [
    "send2trash.send2trash('practice.txt')\n",
    "\n",
    "#delete file"
   ]
  },
  {
   "cell_type": "code",
   "execution_count": null,
   "id": "43e88dcd",
   "metadata": {},
   "outputs": [],
   "source": []
  },
  {
   "cell_type": "code",
   "execution_count": null,
   "id": "4dfea9c1",
   "metadata": {},
   "outputs": [],
   "source": [
    "for folder, sub_folders, files in os.walk()"
   ]
  }
 ],
 "metadata": {
  "kernelspec": {
   "display_name": "Python 3 (ipykernel)",
   "language": "python",
   "name": "python3"
  },
  "language_info": {
   "codemirror_mode": {
    "name": "ipython",
    "version": 3
   },
   "file_extension": ".py",
   "mimetype": "text/x-python",
   "name": "python",
   "nbconvert_exporter": "python",
   "pygments_lexer": "ipython3",
   "version": "3.9.12"
  }
 },
 "nbformat": 4,
 "nbformat_minor": 5
}
