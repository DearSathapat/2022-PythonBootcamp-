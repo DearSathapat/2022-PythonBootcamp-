{
 "cells": [
  {
   "cell_type": "code",
   "execution_count": 1,
   "id": "6c00fb2b",
   "metadata": {},
   "outputs": [
    {
     "data": {
      "text/plain": [
       "'Problem 1: Handle the exception throw by the code below\\nby using try and except blocks'"
      ]
     },
     "execution_count": 1,
     "metadata": {},
     "output_type": "execute_result"
    }
   ],
   "source": [
    "\"\"\"Problem 1: Handle the exception throw by the code below\n",
    "by using try and except blocks\"\"\""
   ]
  },
  {
   "cell_type": "code",
   "execution_count": 4,
   "id": "2258f5f4",
   "metadata": {},
   "outputs": [
    {
     "name": "stdout",
     "output_type": "stream",
     "text": [
      "Normal error! watch out!\n"
     ]
    }
   ],
   "source": [
    "try:\n",
    "    for i in ['a','b','c']:\n",
    "        print(i ** 2)\n",
    "except TypeError:\n",
    "    print(\"Normal error! watch out!\")"
   ]
  },
  {
   "cell_type": "code",
   "execution_count": null,
   "id": "6672b5bc",
   "metadata": {},
   "outputs": [],
   "source": []
  }
 ],
 "metadata": {
  "kernelspec": {
   "display_name": "Python 3 (ipykernel)",
   "language": "python",
   "name": "python3"
  },
  "language_info": {
   "codemirror_mode": {
    "name": "ipython",
    "version": 3
   },
   "file_extension": ".py",
   "mimetype": "text/x-python",
   "name": "python",
   "nbconvert_exporter": "python",
   "pygments_lexer": "ipython3",
   "version": "3.9.12"
  }
 },
 "nbformat": 4,
 "nbformat_minor": 5
}
