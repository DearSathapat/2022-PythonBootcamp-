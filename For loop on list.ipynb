{
 "cells": [
  {
   "cell_type": "code",
   "execution_count": 1,
   "id": "5d265909",
   "metadata": {},
   "outputs": [
    {
     "name": "stdout",
     "output_type": "stream",
     "text": [
      "This is: 7\n",
      "This is: 7\n",
      "This is: 7\n",
      "This is: 7\n",
      "This is: 7\n",
      "This is: 7\n"
     ]
    }
   ],
   "source": [
    "#For loop on list\n",
    "numb = [1,2,3,4,5,6]\n",
    "dumb = 7\n",
    "for n in numb:\n",
    "    print(\"This is:\", dumb)"
   ]
  },
  {
   "cell_type": "code",
   "execution_count": null,
   "id": "78b6903b",
   "metadata": {},
   "outputs": [],
   "source": []
  }
 ],
 "metadata": {
  "kernelspec": {
   "display_name": "Python 3 (ipykernel)",
   "language": "python",
   "name": "python3"
  },
  "language_info": {
   "codemirror_mode": {
    "name": "ipython",
    "version": 3
   },
   "file_extension": ".py",
   "mimetype": "text/x-python",
   "name": "python",
   "nbconvert_exporter": "python",
   "pygments_lexer": "ipython3",
   "version": "3.9.12"
  }
 },
 "nbformat": 4,
 "nbformat_minor": 5
}
