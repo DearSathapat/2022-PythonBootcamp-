{
 "cells": [
  {
   "cell_type": "code",
   "execution_count": 1,
   "id": "f4c32656",
   "metadata": {},
   "outputs": [
    {
     "data": {
      "text/plain": [
       "'Write a function that asks for an integer and prints the square of it.\\nUse a while loop with a try, except, else block to account for incorrect inputs'"
      ]
     },
     "execution_count": 1,
     "metadata": {},
     "output_type": "execute_result"
    }
   ],
   "source": [
    "\"\"\"Problem3: Write a function that asks for an integer and prints the square of it.\n",
    "Use a while loop with a try, except, else block to account for incorrect inputs\"\"\""
   ]
  },
  {
   "cell_type": "code",
   "execution_count": 5,
   "id": "d8f1a1c5",
   "metadata": {},
   "outputs": [],
   "source": [
    "def ask():\n",
    "    \n",
    "    while True:\n",
    "        try:\n",
    "            n = int(input(\"Enter number: \"))\n",
    "        except:\n",
    "            print(\"Please try again!\")\n",
    "            continue\n",
    "        else:\n",
    "            break\n",
    "            \n",
    "    print(\"My number squared is: \")\n",
    "    print(n ** 2)"
   ]
  },
  {
   "cell_type": "code",
   "execution_count": 6,
   "id": "dc8ca0bd",
   "metadata": {},
   "outputs": [
    {
     "name": "stdout",
     "output_type": "stream",
     "text": [
      "Enter number: w\n",
      "Please try again!\n",
      "Enter number: w\n",
      "Please try again!\n",
      "Enter number: 2\n",
      "My number squared is: \n",
      "4\n"
     ]
    }
   ],
   "source": [
    "ask()"
   ]
  },
  {
   "cell_type": "code",
   "execution_count": 9,
   "id": "251e2f45",
   "metadata": {},
   "outputs": [],
   "source": [
    "def ask():\n",
    "    \n",
    "    #waiting for correct response\n",
    "    waiting = True\n",
    "    while waiting:\n",
    "        try:\n",
    "            n = int(input(\"Enter number: \"))\n",
    "        except:\n",
    "            print(\"Please try again!\")\n",
    "            continue\n",
    "        else:\n",
    "            waiting = False\n",
    "            \n",
    "    print(\"My number squared is: \")\n",
    "    print(n ** 2)"
   ]
  },
  {
   "cell_type": "code",
   "execution_count": 10,
   "id": "15b62cf7",
   "metadata": {},
   "outputs": [
    {
     "name": "stdout",
     "output_type": "stream",
     "text": [
      "Enter number: w\n",
      "Please try again!\n",
      "Enter number: 2\n",
      "My number squared is: \n",
      "4\n"
     ]
    }
   ],
   "source": [
    "ask()"
   ]
  },
  {
   "cell_type": "code",
   "execution_count": null,
   "id": "ed24b1f7",
   "metadata": {},
   "outputs": [],
   "source": []
  }
 ],
 "metadata": {
  "kernelspec": {
   "display_name": "Python 3 (ipykernel)",
   "language": "python",
   "name": "python3"
  },
  "language_info": {
   "codemirror_mode": {
    "name": "ipython",
    "version": 3
   },
   "file_extension": ".py",
   "mimetype": "text/x-python",
   "name": "python",
   "nbconvert_exporter": "python",
   "pygments_lexer": "ipython3",
   "version": "3.9.12"
  }
 },
 "nbformat": 4,
 "nbformat_minor": 5
}
