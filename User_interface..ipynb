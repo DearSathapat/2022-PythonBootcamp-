{
 "cells": [
  {
   "cell_type": "code",
   "execution_count": 3,
   "id": "beb84757",
   "metadata": {},
   "outputs": [],
   "source": [
    "game_list = [0,1,2]"
   ]
  },
  {
   "cell_type": "code",
   "execution_count": 4,
   "id": "4b044e47",
   "metadata": {},
   "outputs": [],
   "source": [
    "def display_game(game_list):\n",
    "    print(\"Here is the current list: \")\n",
    "    print(game_list)"
   ]
  },
  {
   "cell_type": "code",
   "execution_count": 5,
   "id": "e602b15c",
   "metadata": {},
   "outputs": [
    {
     "name": "stdout",
     "output_type": "stream",
     "text": [
      "Here is the current list: \n",
      "[0, 1, 2]\n"
     ]
    }
   ],
   "source": [
    "display_game(game_list)"
   ]
  },
  {
   "cell_type": "code",
   "execution_count": null,
   "id": "cab05367",
   "metadata": {},
   "outputs": [],
   "source": [
    "def position_choice():\n",
    "    \n",
    "    choice = 'wrong'\n",
    "    \n",
    "    while choice not in ['0','1','2']:\n",
    "        \n",
    "        choice = input(\"Pick a position (0,1,2): \")\n",
    "        \n",
    "        if choice not in ['0','1','2']:\n",
    "            print(\"Sorry, Invalid choice! \")\n",
    "    return int(choice)"
   ]
  }
 ],
 "metadata": {
  "kernelspec": {
   "display_name": "Python 3 (ipykernel)",
   "language": "python",
   "name": "python3"
  },
  "language_info": {
   "codemirror_mode": {
    "name": "ipython",
    "version": 3
   },
   "file_extension": ".py",
   "mimetype": "text/x-python",
   "name": "python",
   "nbconvert_exporter": "python",
   "pygments_lexer": "ipython3",
   "version": "3.9.12"
  }
 },
 "nbformat": 4,
 "nbformat_minor": 5
}
