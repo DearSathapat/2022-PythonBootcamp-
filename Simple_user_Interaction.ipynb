{
 "cells": [
  {
   "cell_type": "code",
   "execution_count": 15,
   "id": "6c742fd7",
   "metadata": {},
   "outputs": [],
   "source": [
    "def gameon_choice():\n",
    "    \n",
    "    #This original value can be anything that isn't a Y orN\n",
    "    choice = 'wrong'\n",
    "    \n",
    "    #While the choice is not a digit, keep asking for input.\n",
    "    while choice not in ['Y', 'N']:\n",
    "        \n",
    "        #we shouldn't convert here, otherwise we get an error on a wrong input\n",
    "        choice = input(\"Would you like to keep playing? Y or N \")\n",
    "        \n",
    "        if choice not in ['Y','N']:\n",
    "            # This clears the current output below the cell\n",
    "            clear_output()\n",
    "            \n",
    "            print(\"Sorry, I didn't understand. Please make sure to choce Y or N\")\n",
    "            \n",
    "    #Optionally you can clear everything after running the function \n",
    "    #clear_output()\n",
    "    \n",
    "    if choice == \"Y\":\n",
    "        #Game is still on\n",
    "        return True\n",
    "    else:\n",
    "        #Game is over\n",
    "        return False"
   ]
  },
  {
   "cell_type": "code",
   "execution_count": 16,
   "id": "e37e5800",
   "metadata": {},
   "outputs": [
    {
     "ename": "NameError",
     "evalue": "name 'clear_output' is not defined",
     "output_type": "error",
     "traceback": [
      "\u001b[1;31m---------------------------------------------------------------------------\u001b[0m",
      "\u001b[1;31mNameError\u001b[0m                                 Traceback (most recent call last)",
      "Input \u001b[1;32mIn [16]\u001b[0m, in \u001b[0;36m<cell line: 7>\u001b[1;34m()\u001b[0m\n\u001b[0;32m      5\u001b[0m game_list \u001b[38;5;241m=\u001b[39m [\u001b[38;5;241m0\u001b[39m,\u001b[38;5;241m1\u001b[39m,\u001b[38;5;241m2\u001b[39m]\n\u001b[0;32m      7\u001b[0m \u001b[38;5;28;01mwhile\u001b[39;00m game_on:\n\u001b[0;32m      8\u001b[0m     \n\u001b[0;32m      9\u001b[0m     \u001b[38;5;66;03m#clear any historical output and show the game list\u001b[39;00m\n\u001b[1;32m---> 10\u001b[0m     \u001b[43mclear_output\u001b[49m()\n\u001b[0;32m     11\u001b[0m     display_game(game_list)\n\u001b[0;32m     13\u001b[0m     \u001b[38;5;66;03m#Have player choose position\u001b[39;00m\n",
      "\u001b[1;31mNameError\u001b[0m: name 'clear_output' is not defined"
     ]
    }
   ],
   "source": [
    "\n",
    "#Variable to keep game playing \n",
    "game_on = True\n",
    "\n",
    "#First Game List\n",
    "game_list = [0,1,2]\n",
    "\n",
    "while game_on:\n",
    "    \n",
    "    #clear any historical output and show the game list\n",
    "    clear_output()\n",
    "    display_game(game_list)\n",
    "    \n",
    "    #Have player choose position\n",
    "    position = position_choice()\n",
    "    \n",
    "    #Rewrite that position and update game_list\n",
    "    game_list = replacement_choice(game_list,position)\n",
    "    \n",
    "    #clear screen and show the update game list\n",
    "    clear_output()\n",
    "    display_game(game_list)\n",
    "\n",
    "    #ask if you want to keep playing\n",
    "    game_on = gameon_choice()"
   ]
  },
  {
   "cell_type": "code",
   "execution_count": 4,
   "id": "f2e9c5e0",
   "metadata": {},
   "outputs": [
    {
     "name": "stdout",
     "output_type": "stream",
     "text": [
      "<function gameon_choice at 0x000001C659A3ECA0>\n"
     ]
    }
   ],
   "source": [
    "print(gameon_choice)"
   ]
  },
  {
   "cell_type": "code",
   "execution_count": 5,
   "id": "0f95cf88",
   "metadata": {},
   "outputs": [
    {
     "name": "stdout",
     "output_type": "stream",
     "text": [
      "\n"
     ]
    }
   ],
   "source": [
    "print()"
   ]
  },
  {
   "cell_type": "code",
   "execution_count": 9,
   "id": "78781086",
   "metadata": {},
   "outputs": [
    {
     "name": "stdout",
     "output_type": "stream",
     "text": [
      "<function gameon_choice at 0x000001C659A3ECA0>\n"
     ]
    }
   ],
   "source": [
    "print(gameon_choice)"
   ]
  },
  {
   "cell_type": "code",
   "execution_count": null,
   "id": "b2f75fa9",
   "metadata": {},
   "outputs": [],
   "source": []
  }
 ],
 "metadata": {
  "kernelspec": {
   "display_name": "Python 3 (ipykernel)",
   "language": "python",
   "name": "python3"
  },
  "language_info": {
   "codemirror_mode": {
    "name": "ipython",
    "version": 3
   },
   "file_extension": ".py",
   "mimetype": "text/x-python",
   "name": "python",
   "nbconvert_exporter": "python",
   "pygments_lexer": "ipython3",
   "version": "3.9.12"
  }
 },
 "nbformat": 4,
 "nbformat_minor": 5
}
