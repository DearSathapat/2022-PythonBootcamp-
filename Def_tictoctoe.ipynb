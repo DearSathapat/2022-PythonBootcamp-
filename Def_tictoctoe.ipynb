{
 "cells": [
  {
   "cell_type": "code",
   "execution_count": 1,
   "id": "50f48849",
   "metadata": {},
   "outputs": [],
   "source": [
    "#board and a mark (x or o) and then check to see if taht mark has won."
   ]
  },
  {
   "cell_type": "code",
   "execution_count": 3,
   "id": "1f692876",
   "metadata": {},
   "outputs": [],
   "source": [
    "def win_check(board, mark):\n",
    "    \n",
    "    #win tic tac toe?\n",
    "    \n",
    "    # all rows, and check to see if they all share the same marker?\n",
    "    return ((board[7] == markd and baord[8] == mark and board[9] == mark) or\n",
    "    (board[4] == markd and baord[5] == mark and board[6] == mark) or\n",
    "    (board[7] == markd and baord[8] == mark and board[9] == mark))"
   ]
  },
  {
   "cell_type": "code",
   "execution_count": 4,
   "id": "2642390b",
   "metadata": {},
   "outputs": [
    {
     "data": {
      "text/plain": [
       "<function __main__.win_check(board, mark)>"
      ]
     },
     "execution_count": 4,
     "metadata": {},
     "output_type": "execute_result"
    }
   ],
   "source": [
    "win_check"
   ]
  },
  {
   "cell_type": "code",
   "execution_count": 12,
   "id": "934e12f9",
   "metadata": {},
   "outputs": [
    {
     "data": {
      "text/plain": [
       "<function __main__.win_check(board, mark)>"
      ]
     },
     "execution_count": 12,
     "metadata": {},
     "output_type": "execute_result"
    }
   ],
   "source": [
    "win_check"
   ]
  },
  {
   "cell_type": "code",
   "execution_count": null,
   "id": "58de4949",
   "metadata": {},
   "outputs": [],
   "source": []
  }
 ],
 "metadata": {
  "kernelspec": {
   "display_name": "Python 3 (ipykernel)",
   "language": "python",
   "name": "python3"
  },
  "language_info": {
   "codemirror_mode": {
    "name": "ipython",
    "version": 3
   },
   "file_extension": ".py",
   "mimetype": "text/x-python",
   "name": "python",
   "nbconvert_exporter": "python",
   "pygments_lexer": "ipython3",
   "version": "3.9.12"
  }
 },
 "nbformat": 4,
 "nbformat_minor": 5
}
