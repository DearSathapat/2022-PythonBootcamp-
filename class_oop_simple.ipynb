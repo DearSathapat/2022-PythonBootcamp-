{
 "cells": [
  {
   "cell_type": "code",
   "execution_count": 1,
   "id": "d8b94584",
   "metadata": {},
   "outputs": [],
   "source": [
    "#Problem 2: "
   ]
  },
  {
   "cell_type": "code",
   "execution_count": 2,
   "id": "05e172ff",
   "metadata": {},
   "outputs": [],
   "source": [
    "class Simple():\n",
    "    \n",
    "    def __init__(self,value):\n",
    "        \n",
    "        self.value = value\n",
    "        \n",
    "    def add_to_value(self,amount):\n",
    "        \n",
    "        self.value = self.value + amount\n",
    "        "
   ]
  },
  {
   "cell_type": "code",
   "execution_count": 3,
   "id": "ca0bec12",
   "metadata": {},
   "outputs": [],
   "source": [
    "myobj = Simple(300)"
   ]
  },
  {
   "cell_type": "code",
   "execution_count": 4,
   "id": "7d3b2f61",
   "metadata": {},
   "outputs": [
    {
     "data": {
      "text/plain": [
       "300"
      ]
     },
     "execution_count": 4,
     "metadata": {},
     "output_type": "execute_result"
    }
   ],
   "source": [
    "myobj.value"
   ]
  },
  {
   "cell_type": "code",
   "execution_count": 5,
   "id": "01d73076",
   "metadata": {},
   "outputs": [],
   "source": [
    "myobj.add_to_value(500)"
   ]
  },
  {
   "cell_type": "code",
   "execution_count": 6,
   "id": "e29b24b5",
   "metadata": {},
   "outputs": [
    {
     "data": {
      "text/plain": [
       "800"
      ]
     },
     "execution_count": 6,
     "metadata": {},
     "output_type": "execute_result"
    }
   ],
   "source": [
    "myobj.value"
   ]
  },
  {
   "cell_type": "code",
   "execution_count": 12,
   "id": "daf186a9",
   "metadata": {},
   "outputs": [],
   "source": [
    "class Simple():\n",
    "    \n",
    "    def __init__(self,value):\n",
    "        \n",
    "        self.value = value\n",
    "        \n",
    "    def add_to_value(self,amount):\n",
    "        \n",
    "        self.value = self.value + amount\n",
    "        print('We just added { } to your value'.format(amount))"
   ]
  },
  {
   "cell_type": "code",
   "execution_count": 13,
   "id": "5ba09e01",
   "metadata": {},
   "outputs": [
    {
     "data": {
      "text/plain": [
       "1300"
      ]
     },
     "execution_count": 13,
     "metadata": {},
     "output_type": "execute_result"
    }
   ],
   "source": [
    "myobj.value"
   ]
  },
  {
   "cell_type": "code",
   "execution_count": 14,
   "id": "428eea3f",
   "metadata": {},
   "outputs": [],
   "source": [
    "myobj.add_to_value(500)"
   ]
  },
  {
   "cell_type": "code",
   "execution_count": 15,
   "id": "2e26d5f5",
   "metadata": {},
   "outputs": [
    {
     "data": {
      "text/plain": [
       "1800"
      ]
     },
     "execution_count": 15,
     "metadata": {},
     "output_type": "execute_result"
    }
   ],
   "source": [
    "myobj.value"
   ]
  },
  {
   "cell_type": "code",
   "execution_count": null,
   "id": "68f9a38a",
   "metadata": {},
   "outputs": [],
   "source": []
  }
 ],
 "metadata": {
  "kernelspec": {
   "display_name": "Python 3 (ipykernel)",
   "language": "python",
   "name": "python3"
  },
  "language_info": {
   "codemirror_mode": {
    "name": "ipython",
    "version": 3
   },
   "file_extension": ".py",
   "mimetype": "text/x-python",
   "name": "python",
   "nbconvert_exporter": "python",
   "pygments_lexer": "ipython3",
   "version": "3.9.12"
  }
 },
 "nbformat": 4,
 "nbformat_minor": 5
}
