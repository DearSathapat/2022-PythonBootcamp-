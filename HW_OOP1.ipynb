{
 "cells": [
  {
   "cell_type": "code",
   "execution_count": null,
   "id": "770aca15",
   "metadata": {},
   "outputs": [],
   "source": [
    "#HW OOP: Problem1 Fill in the Line class methods to accept coordinates \n",
    "#as a pair of tuples and return the slope and distance of the line."
   ]
  },
  {
   "cell_type": "code",
   "execution_count": 25,
   "id": "317636cb",
   "metadata": {},
   "outputs": [],
   "source": [
    "class Line:\n",
    "    \n",
    "    def __init__(self,coor1,coor2):\n",
    "        \n",
    "        self.coor1 = coor1\n",
    "        self.coor2 = coor2\n",
    "    \n",
    "    def distance(self):\n",
    "        return self.coor1 + (\"No! why you said that?\")\n",
    "    \n",
    "    def slope(salf):\n",
    "        return self.coor2 + (8,10)"
   ]
  },
  {
   "cell_type": "code",
   "execution_count": 26,
   "id": "c3024220",
   "metadata": {},
   "outputs": [],
   "source": [
    "d = (\"Yes! Love You.\", 999)"
   ]
  },
  {
   "cell_type": "code",
   "execution_count": 27,
   "id": "0d3cc431",
   "metadata": {},
   "outputs": [
    {
     "name": "stdout",
     "output_type": "stream",
     "text": [
      "('Yes! Love You.', 999)\n"
     ]
    }
   ],
   "source": [
    "print(d)"
   ]
  },
  {
   "cell_type": "code",
   "execution_count": 28,
   "id": "c7e832db",
   "metadata": {},
   "outputs": [],
   "source": [
    "coordinate1 = Line(3, 2)"
   ]
  },
  {
   "cell_type": "code",
   "execution_count": 30,
   "id": "4ec73c9d",
   "metadata": {},
   "outputs": [],
   "source": [
    "coordinate2 = Line(8, 10)"
   ]
  },
  {
   "cell_type": "code",
   "execution_count": 31,
   "id": "938ca6a3",
   "metadata": {},
   "outputs": [],
   "source": [
    "li = Line(coordinate1, coordinate2)"
   ]
  },
  {
   "cell_type": "code",
   "execution_count": null,
   "id": "e7526d36",
   "metadata": {},
   "outputs": [],
   "source": []
  }
 ],
 "metadata": {
  "kernelspec": {
   "display_name": "Python 3 (ipykernel)",
   "language": "python",
   "name": "python3"
  },
  "language_info": {
   "codemirror_mode": {
    "name": "ipython",
    "version": 3
   },
   "file_extension": ".py",
   "mimetype": "text/x-python",
   "name": "python",
   "nbconvert_exporter": "python",
   "pygments_lexer": "ipython3",
   "version": "3.9.12"
  }
 },
 "nbformat": 4,
 "nbformat_minor": 5
}
