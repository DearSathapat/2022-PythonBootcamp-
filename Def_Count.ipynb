{
 "cells": [
  {
   "cell_type": "code",
   "execution_count": null,
   "id": "2f80c37d",
   "metadata": {},
   "outputs": [],
   "source": [
    "def count_primes(num):\n",
    "    \n",
    "    if num < 2:\n",
    "        return 0\n",
    "    # 2 or greater\n",
    "    \n",
    "    # Store our prime numbers\n",
    "    primes =[2]\n",
    "    #Counter going up to the input num\n",
    "    x = 3\n",
    "    \n",
    "    # x is going through every number\n",
    "    while x <= num:\n",
    "        for y in range(3,x,2):\n",
    "            if x%y == 0:\n",
    "                x =+ 2\n",
    "                break\n",
    "        else:\n",
    "            primes.append(x)\n",
    "            x +=2\n",
    "            \n",
    "    print(primes)\n",
    "    return len(primes)\n",
    "    "
   ]
  },
  {
   "cell_type": "code",
   "execution_count": null,
   "id": "4dd7b7cc",
   "metadata": {},
   "outputs": [],
   "source": [
    "count_primes(100)"
   ]
  },
  {
   "cell_type": "code",
   "execution_count": null,
   "id": "36104713",
   "metadata": {},
   "outputs": [],
   "source": []
  }
 ],
 "metadata": {
  "kernelspec": {
   "display_name": "Python 3 (ipykernel)",
   "language": "python",
   "name": "python3"
  },
  "language_info": {
   "codemirror_mode": {
    "name": "ipython",
    "version": 3
   },
   "file_extension": ".py",
   "mimetype": "text/x-python",
   "name": "python",
   "nbconvert_exporter": "python",
   "pygments_lexer": "ipython3",
   "version": "3.9.12"
  }
 },
 "nbformat": 4,
 "nbformat_minor": 5
}
