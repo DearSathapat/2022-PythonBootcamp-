{
 "cells": [
  {
   "cell_type": "code",
   "execution_count": null,
   "id": "f8d01c0f",
   "metadata": {},
   "outputs": [],
   "source": [
    "#While loop to keep running the game\n",
    "\n",
    "print ('Welcome to Tic Tac Toe')\n",
    "\n",
    "while True:\n",
    "    \n",
    "    #  Play the game\n",
    "    \n",
    "    ##set everything up (Board, Whos first, Choose Marker X,O)\n",
    "    the_board = [' ']* 10\n",
    "    player1_marker, player2_marker = player_input()\n",
    "    \n",
    "    turn = choose_first()\n",
    "    print(turn + ' will go first')\n",
    "    \n",
    "    play_game = input('Ready to play? Y or N? ')\n",
    "    \n",
    "    if play_game == 'y':\n",
    "        game_on = True\n",
    "    else:\n",
    "        game_on = False\n",
    "    \n",
    "    ## Game Play\n",
    " \n",
    "    while game_on:\n",
    "        \n",
    "        if turn == 'Player 1':\n",
    "            \n",
    "            # show the board\n",
    "            display_board(the_board)\n",
    "            \n",
    "            #choose a position\n",
    "            position = player_choice(theboard)\n",
    "            \n",
    "            #place the marker on the position\n",
    "            place_marker(the_board, player1_marder,position)\n",
    "            \n",
    "            #check if they won\n",
    "            if win_check(the_baord, player1_marker):\n",
    "                display_board(the_board)\n",
    "                print('Player 1 has won!!')\n",
    "                game_on = False\n",
    "            else:\n",
    "                turn = 'Player 2'\n",
    "            \n",
    "    ### Player one turn\n",
    "    \n",
    "    ### Player two turn\n",
    "    \n",
    "    if not replay():"
   ]
  }
 ],
 "metadata": {
  "kernelspec": {
   "display_name": "Python 3 (ipykernel)",
   "language": "python",
   "name": "python3"
  },
  "language_info": {
   "codemirror_mode": {
    "name": "ipython",
    "version": 3
   },
   "file_extension": ".py",
   "mimetype": "text/x-python",
   "name": "python",
   "nbconvert_exporter": "python",
   "pygments_lexer": "ipython3",
   "version": "3.9.12"
  }
 },
 "nbformat": 4,
 "nbformat_minor": 5
}
